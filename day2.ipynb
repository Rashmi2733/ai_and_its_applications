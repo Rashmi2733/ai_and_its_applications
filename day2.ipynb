{
  "nbformat": 4,
  "nbformat_minor": 0,
  "metadata": {
    "colab": {
      "provenance": []
    },
    "kernelspec": {
      "name": "python3",
      "display_name": "Python 3"
    },
    "language_info": {
      "name": "python"
    }
  },
  "cells": [
    {
      "cell_type": "markdown",
      "source": [
        "## **Day-2 Practical**"
      ],
      "metadata": {
        "id": "xFp1lhAEG-Ks"
      }
    },
    {
      "cell_type": "code",
      "source": [
        "print(\"Python is easy.\")"
      ],
      "metadata": {
        "colab": {
          "base_uri": "https://localhost:8080/"
        },
        "id": "_RU1SUtuG9zs",
        "outputId": "bc22c2f9-927b-4d13-abc9-972781b6fc8f"
      },
      "execution_count": 1,
      "outputs": [
        {
          "output_type": "stream",
          "name": "stdout",
          "text": [
            "Python is easy.\n"
          ]
        }
      ]
    },
    {
      "cell_type": "markdown",
      "source": [
        "## LISTS IN PYTHON"
      ],
      "metadata": {
        "id": "0yJzILzPIxaS"
      }
    },
    {
      "cell_type": "code",
      "source": [
        "# Creating a list call fruits\n",
        "fruits = ['apple', 'banana', 'mango', 'orange', 'watermelon', 'kiwi', 'grapes']\n",
        "\n",
        "#Printing the list\n",
        "print(fruits)\n",
        "\n",
        "# #Printing first element from the list\n",
        "# print(fruits[0])\n",
        "\n",
        "# #Printing last element of the list\n",
        "# print(fruits[-1])\n",
        "\n",
        "\n",
        "# #Adding and removing elements\n",
        "# fruits.append('strawberry') #Adding element\n",
        "\n",
        "# fruits.remove(\"orange\") #Remove element\n",
        "\n",
        "# print(fruits)\n",
        "\n",
        "#Slicing a list\n",
        "print(fruits[1:3]) ##3 is not included so we have element from 1 and 2\n",
        "\n",
        "# fruits[starting_index:final_index-1]\n",
        "print(fruits[0:5:2]) ##every two item"
      ],
      "metadata": {
        "colab": {
          "base_uri": "https://localhost:8080/"
        },
        "id": "FxPlY31-IY0u",
        "outputId": "862cc083-991b-4775-864a-831e3abe3cfe"
      },
      "execution_count": 11,
      "outputs": [
        {
          "output_type": "stream",
          "name": "stdout",
          "text": [
            "['apple', 'banana', 'mango', 'orange', 'watermelon', 'kiwi', 'grapes']\n",
            "['banana', 'mango']\n",
            "['apple', 'mango', 'watermelon']\n"
          ]
        }
      ]
    },
    {
      "cell_type": "markdown",
      "source": [
        "Tuples and sets (at home)"
      ],
      "metadata": {
        "id": "sTf1-XZ0L6eT"
      }
    },
    {
      "cell_type": "markdown",
      "source": [
        "## Dictionary"
      ],
      "metadata": {
        "id": "QDLqCSNlLz5s"
      }
    },
    {
      "cell_type": "code",
      "source": [
        "## key value pairs\n",
        "\n",
        "##Creating a dictionary\n",
        "\n",
        "student = {\n",
        "    \"name\" : \"Ramu\",\n",
        "    \"age\" : 12,\n",
        "    \"class\" : 8\n",
        "\n",
        "}\n",
        "\n",
        "print(student)\n",
        "\n",
        "##Accessing value of a particular key in a dictionary\n",
        "\n",
        "student['class']\n",
        "\n",
        "##Updating value of a particular key in a dictionary\n",
        "student['class'] = 9\n",
        "\n",
        "print(student)\n",
        "\n",
        "#Adding a new key-value pair in student dictionary\n",
        "student['address'] = \"Pokhara\"\n",
        "print(student)\n",
        "\n",
        "#Removing key value pair\n",
        "del student['age']\n",
        "print(student)\n"
      ],
      "metadata": {
        "colab": {
          "base_uri": "https://localhost:8080/"
        },
        "id": "5wR97q5xIb93",
        "outputId": "ac15c85f-525f-4bf8-c9ba-9f277a564c94"
      },
      "execution_count": 16,
      "outputs": [
        {
          "output_type": "stream",
          "name": "stdout",
          "text": [
            "{'name': 'Ramu', 'age': 12, 'class': 8}\n",
            "{'name': 'Ramu', 'age': 12, 'class': 9}\n",
            "{'name': 'Ramu', 'age': 12, 'class': 9, 'address': 'Pokhara'}\n",
            "{'name': 'Ramu', 'class': 9, 'address': 'Pokhara'}\n"
          ]
        }
      ]
    },
    {
      "cell_type": "markdown",
      "source": [
        "## String Manipulation in Python"
      ],
      "metadata": {
        "id": "wLs5GtT5Ggaq"
      }
    },
    {
      "cell_type": "code",
      "execution_count": 28,
      "metadata": {
        "colab": {
          "base_uri": "https://localhost:8080/"
        },
        "id": "8bZ6v_LaGHaT",
        "outputId": "69611e85-2658-4989-bcaf-c76fcbec0208"
      },
      "outputs": [
        {
          "output_type": "stream",
          "name": "stdout",
          "text": [
            "  Hello Python   \n",
            "  hello python   \n",
            "  HELLO PYTHON   \n",
            "Hello Python\n",
            "  Hello Java   \n",
            "['Hello', 'Python']\n",
            "Hello-Python\n"
          ]
        }
      ],
      "source": [
        "#Creating a variable named text\n",
        "text = \"  Hello Python   \" #Has leading and trailing spaces\n",
        "print(text)\n",
        "\n",
        "#Change to lowercase\n",
        "print(text.lower())\n",
        "\n",
        "#Change to uppercase\n",
        "print(text.upper())\n",
        "\n",
        "#Removing leading and trailing white spaces\n",
        "print(text.strip())\n",
        "\n",
        "#Replace function to replace certain string with another string\n",
        "print(text.replace(\"Python\", \"Java\"))\n",
        "\n",
        "#Split based on space\n",
        "splitted = text.strip().split() #method/function chaining\n",
        "print(splitted)\n",
        "\n",
        "#Join with '-'\n",
        "joined = \"-\".join(splitted)\n",
        "print(joined)"
      ]
    },
    {
      "cell_type": "markdown",
      "source": [
        "## Modular Programming"
      ],
      "metadata": {
        "id": "7BrcGlRuSYD7"
      }
    },
    {
      "cell_type": "code",
      "source": [
        "#import function\n",
        "\n",
        "import math\n",
        "\n",
        "print(\"The sqaure root of 121 is:\",math.sqrt(121))"
      ],
      "metadata": {
        "colab": {
          "base_uri": "https://localhost:8080/"
        },
        "id": "Br6-hJ0DO4Vd",
        "outputId": "14251fae-eee7-45ec-96b2-c339a4d879c0"
      },
      "execution_count": 32,
      "outputs": [
        {
          "output_type": "stream",
          "name": "stdout",
          "text": [
            "The sqaure root of 121 is: 11.0\n"
          ]
        }
      ]
    },
    {
      "cell_type": "code",
      "source": [
        "ceiling_num = math.ceil(3.2)\n",
        "print(\"Ceiling of 3.2 is\",ceiling_num)\n",
        "\n",
        "floor_num = math.floor(3.2)\n",
        "print(\"Floor of 3.2 is\", floor_num)"
      ],
      "metadata": {
        "colab": {
          "base_uri": "https://localhost:8080/"
        },
        "id": "tJo5paH0SyJp",
        "outputId": "01f52e13-1563-46cf-f7cd-ad02db8fdeae"
      },
      "execution_count": 35,
      "outputs": [
        {
          "output_type": "stream",
          "name": "stdout",
          "text": [
            "Ceiling of 3.2 is 4\n",
            "Floor of 3.2 is 3\n"
          ]
        }
      ]
    },
    {
      "cell_type": "markdown",
      "source": [
        "## Model Aliasing"
      ],
      "metadata": {
        "id": "T37XZYQkUmH_"
      }
    },
    {
      "cell_type": "code",
      "source": [
        "import matplotlib.pyplot as plt\n",
        "import numpy as np\n",
        "import pandas as pd"
      ],
      "metadata": {
        "id": "PFIIIZ9ET7Do"
      },
      "execution_count": 36,
      "outputs": []
    },
    {
      "cell_type": "code",
      "source": [
        "plt.plot([1,2,3,4,5,6], [2,4,6,8,10,12])"
      ],
      "metadata": {
        "colab": {
          "base_uri": "https://localhost:8080/",
          "height": 447
        },
        "id": "Pha_D-39VEbM",
        "outputId": "51e8c364-fd5b-4c6d-99fa-b6b8f112d8c0"
      },
      "execution_count": 38,
      "outputs": [
        {
          "output_type": "execute_result",
          "data": {
            "text/plain": [
              "[<matplotlib.lines.Line2D at 0x7d54a1aa4510>]"
            ]
          },
          "metadata": {},
          "execution_count": 38
        },
        {
          "output_type": "display_data",
          "data": {
            "text/plain": [
              "<Figure size 640x480 with 1 Axes>"
            ],
            "image/png": "[encoded data removed]"
          },
          "metadata": {}
        }
      ]
    },
    {
      "cell_type": "markdown",
      "source": [
        "## Variable Aliasing"
      ],
      "metadata": {
        "id": "X2t-a8eVVaUg"
      }
    },
    {
      "cell_type": "code",
      "source": [
        "a = [1,2,3]\n",
        "b = a #b takes the memory address of a so changes in b affects a\n",
        "b.append(4)\n",
        "print(b)\n",
        "print(a)"
      ],
      "metadata": {
        "colab": {
          "base_uri": "https://localhost:8080/"
        },
        "id": "_Ljcg7FAVJal",
        "outputId": "d5f729b5-17df-487c-b707-78983a9b89c1"
      },
      "execution_count": 42,
      "outputs": [
        {
          "output_type": "stream",
          "name": "stdout",
          "text": [
            "[1, 2, 3, 4]\n",
            "[1, 2, 3, 4]\n"
          ]
        }
      ]
    },
    {
      "cell_type": "code",
      "source": [],
      "metadata": {
        "id": "TETdY0pOVc7P"
      },
      "execution_count": null,
      "outputs": []
    },
    {
      "cell_type": "markdown",
      "source": [
        "#FUNCTION ALIASING (AT HOME)"
      ],
      "metadata": {
        "id": "Tjiij3iOV6Hp"
      }
    },
    {
      "cell_type": "markdown",
      "source": [
        "## Randoms in python"
      ],
      "metadata": {
        "id": "qgoOnBZPV9aK"
      }
    },
    {
      "cell_type": "code",
      "source": [
        "#Importing random module and aliasing it as rt\n",
        "import random as rt\n",
        "\n",
        "# .randint() is a function of module random\n",
        "print(rt.randint(0, 10)) #Includes both 0 and 10\n",
        "\n",
        "random_float = rt.random()\n",
        "\n",
        "random_float_in_range = rt.uniform(15.0, 30.0)\n",
        "print(random_float_in_range)\n"
      ],
      "metadata": {
        "colab": {
          "base_uri": "https://localhost:8080/"
        },
        "id": "Ns5hxWZGV8Zf",
        "outputId": "86116f72-917f-4af6-b617-db311b935ba4"
      },
      "execution_count": 62,
      "outputs": [
        {
          "output_type": "stream",
          "name": "stdout",
          "text": [
            "0\n",
            "26.62038839123243\n"
          ]
        }
      ]
    },
    {
      "cell_type": "markdown",
      "source": [
        "## EXPLORE MORE MODULES AND ITS FUNCTIONS/METHODS (AT HOME)"
      ],
      "metadata": {
        "id": "RmkwJ2jBXXlp"
      }
    },
    {
      "cell_type": "code",
      "source": [
        "rt.choice([1,2,3,4,5])"
      ],
      "metadata": {
        "colab": {
          "base_uri": "https://localhost:8080/"
        },
        "id": "ZIeG22nFWBDP",
        "outputId": "0e0cc36d-9ff9-4c76-adf5-e41c1c098742"
      },
      "execution_count": 63,
      "outputs": [
        {
          "output_type": "execute_result",
          "data": {
            "text/plain": [
              "4"
            ]
          },
          "metadata": {},
          "execution_count": 63
        }
      ]
    },
    {
      "cell_type": "code",
      "source": [],
      "metadata": {
        "id": "6R3uGxROYc1j"
      },
      "execution_count": null,
      "outputs": []
    },
    {
      "cell_type": "markdown",
      "source": [
        "##Creating custom modules"
      ],
      "metadata": {
        "id": "hlLyRm8-XkMV"
      }
    },
    {
      "cell_type": "code",
      "source": [
        "# %%writefile takes this cell and considers it to be a .py file so we can then call it below\n",
        "%%writefile helper.py\n",
        "#helper.py\n",
        "\n",
        "def add_number(a,b):\n",
        "  return a + b"
      ],
      "metadata": {
        "colab": {
          "base_uri": "https://localhost:8080/"
        },
        "id": "jkTk8huxXhud",
        "outputId": "006793a7-cc95-48da-d328-bf9f2ac83d76"
      },
      "execution_count": 65,
      "outputs": [
        {
          "output_type": "stream",
          "name": "stdout",
          "text": [
            "Writing helper.py\n"
          ]
        }
      ]
    },
    {
      "cell_type": "code",
      "source": [
        "# %%writefile main.py ##only needed if we want it to be used somewhere\n",
        "\n",
        "#main.py\n",
        "import helper as hp\n",
        "result = hp.add_number(2,4)\n",
        "\n",
        "print(\"The sum is:\", result)"
      ],
      "metadata": {
        "colab": {
          "base_uri": "https://localhost:8080/"
        },
        "id": "dHbWVlLhYiT3",
        "outputId": "c4e9e7c3-cef9-4a3f-fc8f-78b0b7e73241"
      },
      "execution_count": 75,
      "outputs": [
        {
          "output_type": "stream",
          "name": "stdout",
          "text": [
            "The sum is: 6\n"
          ]
        }
      ]
    },
    {
      "cell_type": "code",
      "source": [],
      "metadata": {
        "id": "Y6bpRGewYtfR"
      },
      "execution_count": null,
      "outputs": []
    }
  ]
}