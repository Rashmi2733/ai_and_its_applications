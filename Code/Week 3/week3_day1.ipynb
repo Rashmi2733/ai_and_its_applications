{
  "nbformat": 4,
  "nbformat_minor": 0,
  "metadata": {
    "colab": {
      "provenance": []
    },
    "kernelspec": {
      "name": "python3",
      "display_name": "Python 3"
    },
    "language_info": {
      "name": "python"
    }
  },
  "cells": [
    {
      "cell_type": "markdown",
      "source": [
        "## Traditional Programming vs Machine Learning\n"
      ],
      "metadata": {
        "id": "eshFmnXRA4bz"
      }
    },
    {
      "cell_type": "code",
      "execution_count": null,
      "metadata": {
        "id": "sR1vRxwJ_v48"
      },
      "outputs": [],
      "source": [
        "#Traditional - you give the rules and data and get the output\n",
        "# Machine Learning - You give the data and output and ML will find the rules"
      ]
    },
    {
      "cell_type": "code",
      "source": [
        "##Traditional programming\n",
        "\n",
        "def odd_or_even(num):\n",
        "\n",
        "  if num % 2 == 0:\n",
        "    print(f\"{num} is even.\")\n",
        "  else:\n",
        "    print(f\"{num} is odd.\")\n",
        "\n",
        "odd_or_even(5)"
      ],
      "metadata": {
        "colab": {
          "base_uri": "https://localhost:8080/"
        },
        "id": "IgGQbSHyCnII",
        "outputId": "e2b80f31-1afc-43e0-8b9f-c0b7128f0901"
      },
      "execution_count": 1,
      "outputs": [
        {
          "output_type": "stream",
          "name": "stdout",
          "text": [
            "5 is odd.\n"
          ]
        }
      ]
    },
    {
      "cell_type": "code",
      "source": [
        "def is_even(num):\n",
        "  return num % 2 == 0\n",
        "\n",
        "print(is_even(2))"
      ],
      "metadata": {
        "colab": {
          "base_uri": "https://localhost:8080/"
        },
        "id": "2PV5FrZZDByY",
        "outputId": "d346bd22-07ff-417b-b6e0-af6638d20864"
      },
      "execution_count": 2,
      "outputs": [
        {
          "output_type": "stream",
          "name": "stdout",
          "text": [
            "True\n"
          ]
        }
      ]
    },
    {
      "cell_type": "markdown",
      "source": [
        "## Predicting odd vs even using decision tree"
      ],
      "metadata": {
        "id": "HMDh3dJ9EqJV"
      }
    },
    {
      "cell_type": "code",
      "source": [
        "import pandas as pd\n",
        "import numpy as np\n",
        "from sklearn.tree import DecisionTreeClassifier\n",
        "\n",
        "x = [2,3,4,5,6,7,8,9, 10, 15, 22, 26, 25] ##features\n",
        "# y = [1, 0, 1, 0, 1, 0, 1, 0]\n",
        "y= ['even', 'odd', 'even', 'odd', 'even', 'odd', 'even', 'odd', 'even', 'odd', 'even', 'even', 'odd'] ##labels / target\n",
        "# y = [1,0,1,0,1,0,1,0,1,0,1,1,0]\n",
        "X = pd.DataFrame({\"Number\": x })\n",
        "\n",
        "\n",
        "\n",
        "# x_train = df[['Number']]\n",
        "# y_train = df[['Even']]\n",
        "#Creating model\n",
        "model = DecisionTreeClassifier()\n",
        "#training model\n",
        "model.fit(X, y)\n",
        "\n",
        "#Making predictions (inferencing)\n",
        "print(model.predict([[30]]))\n",
        "\n",
        "\n",
        "##Less data - so underfitting"
      ],
      "metadata": {
        "colab": {
          "base_uri": "https://localhost:8080/"
        },
        "id": "448GmYzWDHgA",
        "outputId": "1f162fbc-d688-4913-d84c-89aeb6505294"
      },
      "execution_count": 3,
      "outputs": [
        {
          "output_type": "stream",
          "name": "stdout",
          "text": [
            "['even']\n"
          ]
        },
        {
          "output_type": "stream",
          "name": "stderr",
          "text": [
            "/usr/local/lib/python3.11/dist-packages/sklearn/utils/validation.py:2739: UserWarning: X does not have valid feature names, but DecisionTreeClassifier was fitted with feature names\n",
            "  warnings.warn(\n"
          ]
        }
      ]
    },
    {
      "cell_type": "code",
      "source": [
        "##Can the machine generalize well with few data points?\n",
        "\n",
        "\n",
        "##Is this a good use case for ML?\n",
        "## probably not --- more features would make the model better\n"
      ],
      "metadata": {
        "id": "7k8JXyPdFW8S"
      },
      "execution_count": 4,
      "outputs": []
    },
    {
      "cell_type": "code",
      "source": [],
      "metadata": {
        "id": "47Qd4SjVJG3M"
      },
      "execution_count": 4,
      "outputs": []
    },
    {
      "cell_type": "code",
      "source": [
        "numbers = []\n",
        "labels = []\n",
        "\n",
        "for i in range(0, 10000):\n",
        "  if is_even(i) == True:\n",
        "    lab = 'even'\n",
        "    numbers.append(i)\n",
        "    labels.append('even')\n",
        "  else:\n",
        "    numbers.append(i)\n",
        "    labels.append('odd')\n"
      ],
      "metadata": {
        "id": "MVmOGUL3JZqk"
      },
      "execution_count": 5,
      "outputs": []
    },
    {
      "cell_type": "code",
      "source": [
        "##Try changing the numbers and retrain the model\n",
        "\n",
        "# x = [2,3,4,5,6,7,8,9, 10, 15, 22, 26, 25] ##features\n",
        "# y= ['even', 'odd', 'even', 'odd', 'even', 'odd', 'even', 'odd', 'even', 'odd', 'even', 'even', 'odd'] ##labels / target\n",
        "# y = [1,0,1,0,1,0,1,0,1,0,1,1,0]\n",
        "X = pd.DataFrame({\"Number\": numbers})\n",
        "\n",
        "#Creating model\n",
        "model = DecisionTreeClassifier()\n",
        "#training model\n",
        "model.fit(X, labels)\n",
        "\n",
        "#Making predictions (inferencing)\n",
        "print(model.predict([[50]]))\n",
        "\n",
        "#Less data - so underfitting"
      ],
      "metadata": {
        "colab": {
          "base_uri": "https://localhost:8080/"
        },
        "id": "xuFi7W9wJ_Fu",
        "outputId": "5fc09513-192c-43fc-9aef-2ea10fe1ac49"
      },
      "execution_count": 7,
      "outputs": [
        {
          "output_type": "stream",
          "name": "stdout",
          "text": [
            "['even']\n"
          ]
        },
        {
          "output_type": "stream",
          "name": "stderr",
          "text": [
            "/usr/local/lib/python3.11/dist-packages/sklearn/utils/validation.py:2739: UserWarning: X does not have valid feature names, but DecisionTreeClassifier was fitted with feature names\n",
            "  warnings.warn(\n"
          ]
        }
      ]
    },
    {
      "cell_type": "code",
      "source": [
        "print(model.predict([[100001]]))"
      ],
      "metadata": {
        "colab": {
          "base_uri": "https://localhost:8080/"
        },
        "id": "2qTouLubKYCl",
        "outputId": "f5d45317-5a78-4848-a8cb-5601f51c345f"
      },
      "execution_count": 8,
      "outputs": [
        {
          "output_type": "stream",
          "name": "stdout",
          "text": [
            "['odd']\n"
          ]
        },
        {
          "output_type": "stream",
          "name": "stderr",
          "text": [
            "/usr/local/lib/python3.11/dist-packages/sklearn/utils/validation.py:2739: UserWarning: X does not have valid feature names, but DecisionTreeClassifier was fitted with feature names\n",
            "  warnings.warn(\n"
          ]
        }
      ]
    },
    {
      "cell_type": "code",
      "source": [
        "##data for temp and labels\n",
        "\n",
        "#10,000 temperature data points (in Celsius)\n",
        "temperatures = np.random.normal(loc=20, scale=10, size=10000)  # Mean=20, SD=10\n",
        "\n",
        "# Define labeling rule\n",
        "def label_temperature(temp):\n",
        "    if temp > 30:\n",
        "        return \"hot\"\n",
        "    elif temp > 21:\n",
        "        return \"warm\"\n",
        "    elif temp > 10:\n",
        "        return \"cool\"\n",
        "    else:\n",
        "        return \"cold\"\n",
        "\n",
        "labels = [label_temperature(temp) for temp in temperatures]\n",
        "\n",
        "# Create DataFrame\n",
        "df = pd.DataFrame({\n",
        "    \"temperature\": temperatures,\n",
        "    \"label\": labels\n",
        "})\n",
        "\n",
        "# df.to_csv('temperature.csv', index = False)"
      ],
      "metadata": {
        "id": "XZXbIRrPKxct"
      },
      "execution_count": 9,
      "outputs": []
    },
    {
      "cell_type": "code",
      "source": [
        "from sklearn.tree import DecisionTreeClassifier\n",
        "temp_model = DecisionTreeClassifier()\n",
        "\n",
        "temp_model.fit(df[['temperature']], df[['label']])\n",
        "\n",
        "print(temp_model.predict([[-10]]))"
      ],
      "metadata": {
        "colab": {
          "base_uri": "https://localhost:8080/"
        },
        "id": "valEfSwhRG3l",
        "outputId": "c7d52c6b-7721-47aa-ac77-c69b342a0ab6"
      },
      "execution_count": 13,
      "outputs": [
        {
          "output_type": "stream",
          "name": "stdout",
          "text": [
            "['cold']\n"
          ]
        },
        {
          "output_type": "stream",
          "name": "stderr",
          "text": [
            "/usr/local/lib/python3.11/dist-packages/sklearn/utils/validation.py:2739: UserWarning: X does not have valid feature names, but DecisionTreeClassifier was fitted with feature names\n",
            "  warnings.warn(\n"
          ]
        }
      ]
    },
    {
      "cell_type": "code",
      "source": [
        "# from sklearn.tree import DecisionTreeClassifier\n",
        "# import pandas as pd\n",
        "\n",
        "# df = pd.read_csv('/content/temperature.csv')\n",
        "\n",
        "# temp_model = DecisionTreeClassifier()\n",
        "\n",
        "# temp_model.fit(df[['temperature']], df[['label']])\n",
        "# print(temp_model.predict([[12]]))"
      ],
      "metadata": {
        "colab": {
          "base_uri": "https://localhost:8080/"
        },
        "id": "UogrJiZQTqE9",
        "outputId": "b8be02b2-920b-40f8-f85d-e1b11a08274c"
      },
      "execution_count": null,
      "outputs": [
        {
          "output_type": "stream",
          "name": "stdout",
          "text": [
            "['cool']\n"
          ]
        },
        {
          "output_type": "stream",
          "name": "stderr",
          "text": [
            "/usr/local/lib/python3.11/dist-packages/sklearn/utils/validation.py:2739: UserWarning: X does not have valid feature names, but DecisionTreeClassifier was fitted with feature names\n",
            "  warnings.warn(\n"
          ]
        }
      ]
    },
    {
      "cell_type": "code",
      "source": [
        "# Generate 10,000 weight values (in kg)\n",
        "weights = np.random.normal(loc=70, scale=15, size=10000)\n",
        "\n",
        "# Labeling rule\n",
        "def label_weight(w):\n",
        "    if w <= 50:\n",
        "        return \"underweight\"\n",
        "    elif w <= 85:\n",
        "        return \"normal\"\n",
        "    elif w <= 100:\n",
        "        return \"overweight\"\n",
        "    else:\n",
        "        return \"obese\"\n",
        "\n",
        "# Apply labels\n",
        "labels = [label_weight(w) for w in weights]\n",
        "\n",
        "# Create DataFrame\n",
        "df = pd.DataFrame({\n",
        "    \"weight\": weights,\n",
        "    \"label\": labels\n",
        "})\n",
        "\n",
        "weight_model = DecisionTreeClassifier()\n",
        "\n",
        "weight_model.fit(df[['weight']], df[['label']])\n",
        "print(weight_model.predict([[102]]))\n"
      ],
      "metadata": {
        "colab": {
          "base_uri": "https://localhost:8080/"
        },
        "id": "5GmxRGMqUMQ2",
        "outputId": "1c2f5f74-5aa4-4c76-f86d-4529a9b5d7b6"
      },
      "execution_count": 14,
      "outputs": [
        {
          "output_type": "stream",
          "name": "stdout",
          "text": [
            "['obese']\n"
          ]
        },
        {
          "output_type": "stream",
          "name": "stderr",
          "text": [
            "/usr/local/lib/python3.11/dist-packages/sklearn/utils/validation.py:2739: UserWarning: X does not have valid feature names, but DecisionTreeClassifier was fitted with feature names\n",
            "  warnings.warn(\n"
          ]
        }
      ]
    },
    {
      "cell_type": "code",
      "source": [
        "# Generate 10,000 housing prices\n",
        "housing_prices = np.random.normal(loc=100000, scale=40000, size=10000)\n",
        "\n",
        "def house_label(w):\n",
        "    if w <= 20000:\n",
        "        return \"cheap\"\n",
        "    elif w <= 50000:\n",
        "        return \"average\"\n",
        "    elif w <= 100000:\n",
        "        return \"expensive\"\n",
        "    else:\n",
        "        return \"luxurious\"\n",
        "\n",
        "# Apply labels\n",
        "labels = [house_label(w) for w in housing_prices]\n",
        "\n",
        "df = pd.DataFrame({\n",
        "    \"house_price\": housing_prices,\n",
        "    \"label\": labels\n",
        "})\n",
        "\n"
      ],
      "metadata": {
        "id": "D6f6lViUUJZg"
      },
      "execution_count": 15,
      "outputs": []
    },
    {
      "cell_type": "code",
      "source": [
        "house_model = DecisionTreeClassifier()\n",
        "\n",
        "house_model.fit(df[['house_price']], df[['label']])\n",
        "print(house_model.predict([[1000]]))\n"
      ],
      "metadata": {
        "colab": {
          "base_uri": "https://localhost:8080/"
        },
        "id": "wX_8zeZDX5tC",
        "outputId": "4e2fdcf8-4e5a-494c-af5b-f3db0e53a58b"
      },
      "execution_count": 17,
      "outputs": [
        {
          "output_type": "stream",
          "name": "stdout",
          "text": [
            "['cheap']\n"
          ]
        },
        {
          "output_type": "stream",
          "name": "stderr",
          "text": [
            "/usr/local/lib/python3.11/dist-packages/sklearn/utils/validation.py:2739: UserWarning: X does not have valid feature names, but DecisionTreeClassifier was fitted with feature names\n",
            "  warnings.warn(\n"
          ]
        }
      ]
    },
    {
      "cell_type": "code",
      "source": [],
      "metadata": {
        "id": "d4eLl80yWbcC"
      },
      "execution_count": null,
      "outputs": []
    }
  ]
}